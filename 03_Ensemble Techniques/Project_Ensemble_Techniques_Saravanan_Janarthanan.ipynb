{
 "cells": [
  {
   "cell_type": "markdown",
   "id": "3178685a",
   "metadata": {},
   "source": [
    "---\n",
    "# Project Ensemble Techniques - Saravanan Janarthanan\n",
    "\n",
    "## Part A\n",
    "\n",
    "DOMAIN: Te l e c o m\n",
    "\n",
    "CONTEXT: A  telecom  company  wants  to  use  their  historical  customer  data  to  predict  behaviour  to  retain  customers.  You  can  analyse  all relevant customer data and develop focused customer retention programs.\n",
    "\n",
    "DATA  DESCRIPTION: Each  row  represents  a  customer,  each  column  contains  customer’s  attributes  described  on  the  column  Metadata.  The data set includes information about:\n",
    "\n",
    "Customers who left within the last month – the column is called Churn\n",
    "\n",
    "Services that each customer has signed up for – phone, multiple lines, internet, online security, online backup, device protection, tech support, and streaming TV and movies\n",
    "\n",
    "Customer account information – how long they’ve been a customer, contract, payment method, paperless billing, monthly charges, and total charges\n",
    "\n",
    "Demographic info about customers – gender, age range, and if they have partners and dependents\n",
    "\n",
    "PROJECT OBJECTIVE: To Build a model that will help to identify the potential customers who have a higher probability to churn. This helps the company to understand the pinpoints and patterns of customer churn and will increase the focus on strategizing customer retention."
   ]
  },
  {
   "cell_type": "markdown",
   "id": "b472c889",
   "metadata": {},
   "source": [
    "\n",
    "*** 1. Data Understanding & Exploration: ***\n",
    "\n",
    "***Q1A. Read ‘TelcomCustomer-Churn_1.csv’ as a DataFrame and assign it to a variable.***\n",
    "\n",
    "    "
   ]
  },
  {
   "cell_type": "code",
   "execution_count": 1,
   "id": "6a81e7d6",
   "metadata": {},
   "outputs": [],
   "source": [
    "# Load the Libraries\n",
    "import numpy  as np\n",
    "import pandas as pd\n",
    "import scipy.stats as stats\n",
    "import matplotlib.pyplot as plt\n",
    "import seaborn as sns\n",
    "\n",
    "class color:\n",
    "   BOLD = '\\033[1m'\n",
    "   END = '\\033[0m'"
   ]
  },
  {
   "cell_type": "markdown",
   "id": "b545ac31",
   "metadata": {},
   "source": [
    "\n",
    "***Ans 1A Use read_csv() function to load the TelcomCustomer-Churn_1 data into a Data frame***"
   ]
  },
  {
   "cell_type": "code",
   "execution_count": 2,
   "id": "e535c1e4",
   "metadata": {},
   "outputs": [],
   "source": [
    "# Load the TelcomCustomer-Churn_1 CSV data\n",
    "teleCustChurn1_data = pd.read_csv( 'Ensemble_Technique_Project\\TelcomCustomer-Churn_1.csv' )"
   ]
  },
  {
   "cell_type": "markdown",
   "id": "9a46756d",
   "metadata": {},
   "source": [
    "\n",
    "\n",
    "***Q 1B. Read ‘TelcomCustomer-Churn_2.csv’ as a DataFrame and assign it to a variable.***\n",
    "\n",
    "***Ans 1B Use read_csv() function to load the TelcomCustomer-Churn_2 data into a Data frames***"
   ]
  },
  {
   "cell_type": "code",
   "execution_count": 3,
   "id": "2f92b5de",
   "metadata": {},
   "outputs": [],
   "source": [
    "# Load the TelcomCustomer-Churn_2 CSV data\n",
    "teleCustChurn2_data = pd.read_csv( 'Ensemble_Technique_Project\\TelcomCustomer-Churn_2.csv' )"
   ]
  },
  {
   "cell_type": "markdown",
   "id": "479e641a",
   "metadata": {},
   "source": [
    "\n",
    "***Q 1C. Merge both the DataFrames on key ‘customerID’ to form a single DataFrame***\n",
    "\n",
    "***A 1C. Check the column or feature details of both dataframe and then Merge both the DataFrames on key ‘customerID’ to form a single DataFrame***"
   ]
  },
  {
   "cell_type": "code",
   "execution_count": 4,
   "id": "5699aa02",
   "metadata": {},
   "outputs": [
    {
     "data": {
      "text/html": [
       "<div>\n",
       "<style scoped>\n",
       "    .dataframe tbody tr th:only-of-type {\n",
       "        vertical-align: middle;\n",
       "    }\n",
       "\n",
       "    .dataframe tbody tr th {\n",
       "        vertical-align: top;\n",
       "    }\n",
       "\n",
       "    .dataframe thead th {\n",
       "        text-align: right;\n",
       "    }\n",
       "</style>\n",
       "<table border=\"1\" class=\"dataframe\">\n",
       "  <thead>\n",
       "    <tr style=\"text-align: right;\">\n",
       "      <th></th>\n",
       "      <th>customerID</th>\n",
       "      <th>gender</th>\n",
       "      <th>SeniorCitizen</th>\n",
       "      <th>Partner</th>\n",
       "      <th>Dependents</th>\n",
       "      <th>tenure</th>\n",
       "      <th>PhoneService</th>\n",
       "      <th>MultipleLines</th>\n",
       "      <th>InternetService</th>\n",
       "      <th>OnlineSecurity</th>\n",
       "    </tr>\n",
       "  </thead>\n",
       "  <tbody>\n",
       "    <tr>\n",
       "      <th>0</th>\n",
       "      <td>7590-VHVEG</td>\n",
       "      <td>Female</td>\n",
       "      <td>0</td>\n",
       "      <td>Yes</td>\n",
       "      <td>No</td>\n",
       "      <td>1</td>\n",
       "      <td>No</td>\n",
       "      <td>No phone service</td>\n",
       "      <td>DSL</td>\n",
       "      <td>No</td>\n",
       "    </tr>\n",
       "    <tr>\n",
       "      <th>1</th>\n",
       "      <td>5575-GNVDE</td>\n",
       "      <td>Male</td>\n",
       "      <td>0</td>\n",
       "      <td>No</td>\n",
       "      <td>No</td>\n",
       "      <td>34</td>\n",
       "      <td>Yes</td>\n",
       "      <td>No</td>\n",
       "      <td>DSL</td>\n",
       "      <td>Yes</td>\n",
       "    </tr>\n",
       "    <tr>\n",
       "      <th>2</th>\n",
       "      <td>3668-QPYBK</td>\n",
       "      <td>Male</td>\n",
       "      <td>0</td>\n",
       "      <td>No</td>\n",
       "      <td>No</td>\n",
       "      <td>2</td>\n",
       "      <td>Yes</td>\n",
       "      <td>No</td>\n",
       "      <td>DSL</td>\n",
       "      <td>Yes</td>\n",
       "    </tr>\n",
       "    <tr>\n",
       "      <th>3</th>\n",
       "      <td>7795-CFOCW</td>\n",
       "      <td>Male</td>\n",
       "      <td>0</td>\n",
       "      <td>No</td>\n",
       "      <td>No</td>\n",
       "      <td>45</td>\n",
       "      <td>No</td>\n",
       "      <td>No phone service</td>\n",
       "      <td>DSL</td>\n",
       "      <td>Yes</td>\n",
       "    </tr>\n",
       "    <tr>\n",
       "      <th>4</th>\n",
       "      <td>9237-HQITU</td>\n",
       "      <td>Female</td>\n",
       "      <td>0</td>\n",
       "      <td>No</td>\n",
       "      <td>No</td>\n",
       "      <td>2</td>\n",
       "      <td>Yes</td>\n",
       "      <td>No</td>\n",
       "      <td>Fiber optic</td>\n",
       "      <td>No</td>\n",
       "    </tr>\n",
       "  </tbody>\n",
       "</table>\n",
       "</div>"
      ],
      "text/plain": [
       "   customerID  gender  SeniorCitizen Partner Dependents  tenure PhoneService  \\\n",
       "0  7590-VHVEG  Female              0     Yes         No       1           No   \n",
       "1  5575-GNVDE    Male              0      No         No      34          Yes   \n",
       "2  3668-QPYBK    Male              0      No         No       2          Yes   \n",
       "3  7795-CFOCW    Male              0      No         No      45           No   \n",
       "4  9237-HQITU  Female              0      No         No       2          Yes   \n",
       "\n",
       "      MultipleLines InternetService OnlineSecurity  \n",
       "0  No phone service             DSL             No  \n",
       "1                No             DSL            Yes  \n",
       "2                No             DSL            Yes  \n",
       "3  No phone service             DSL            Yes  \n",
       "4                No     Fiber optic             No  "
      ]
     },
     "execution_count": 4,
     "metadata": {},
     "output_type": "execute_result"
    }
   ],
   "source": [
    "# Check the features of TelcomCustomer-Churn_1\n",
    "teleCustChurn1_data.head()"
   ]
  },
  {
   "cell_type": "code",
   "execution_count": 5,
   "id": "9538b9ea",
   "metadata": {},
   "outputs": [
    {
     "data": {
      "text/html": [
       "<div>\n",
       "<style scoped>\n",
       "    .dataframe tbody tr th:only-of-type {\n",
       "        vertical-align: middle;\n",
       "    }\n",
       "\n",
       "    .dataframe tbody tr th {\n",
       "        vertical-align: top;\n",
       "    }\n",
       "\n",
       "    .dataframe thead th {\n",
       "        text-align: right;\n",
       "    }\n",
       "</style>\n",
       "<table border=\"1\" class=\"dataframe\">\n",
       "  <thead>\n",
       "    <tr style=\"text-align: right;\">\n",
       "      <th></th>\n",
       "      <th>customerID</th>\n",
       "      <th>OnlineBackup</th>\n",
       "      <th>DeviceProtection</th>\n",
       "      <th>TechSupport</th>\n",
       "      <th>StreamingTV</th>\n",
       "      <th>StreamingMovies</th>\n",
       "      <th>Contract</th>\n",
       "      <th>PaperlessBilling</th>\n",
       "      <th>PaymentMethod</th>\n",
       "      <th>MonthlyCharges</th>\n",
       "      <th>TotalCharges</th>\n",
       "      <th>Churn</th>\n",
       "    </tr>\n",
       "  </thead>\n",
       "  <tbody>\n",
       "    <tr>\n",
       "      <th>0</th>\n",
       "      <td>7590-VHVEG</td>\n",
       "      <td>Yes</td>\n",
       "      <td>No</td>\n",
       "      <td>No</td>\n",
       "      <td>No</td>\n",
       "      <td>No</td>\n",
       "      <td>Month-to-month</td>\n",
       "      <td>Yes</td>\n",
       "      <td>Electronic check</td>\n",
       "      <td>29.85</td>\n",
       "      <td>29.85</td>\n",
       "      <td>No</td>\n",
       "    </tr>\n",
       "    <tr>\n",
       "      <th>1</th>\n",
       "      <td>5575-GNVDE</td>\n",
       "      <td>No</td>\n",
       "      <td>Yes</td>\n",
       "      <td>No</td>\n",
       "      <td>No</td>\n",
       "      <td>No</td>\n",
       "      <td>One year</td>\n",
       "      <td>No</td>\n",
       "      <td>Mailed check</td>\n",
       "      <td>56.95</td>\n",
       "      <td>1889.5</td>\n",
       "      <td>No</td>\n",
       "    </tr>\n",
       "    <tr>\n",
       "      <th>2</th>\n",
       "      <td>3668-QPYBK</td>\n",
       "      <td>Yes</td>\n",
       "      <td>No</td>\n",
       "      <td>No</td>\n",
       "      <td>No</td>\n",
       "      <td>No</td>\n",
       "      <td>Month-to-month</td>\n",
       "      <td>Yes</td>\n",
       "      <td>Mailed check</td>\n",
       "      <td>53.85</td>\n",
       "      <td>108.15</td>\n",
       "      <td>Yes</td>\n",
       "    </tr>\n",
       "    <tr>\n",
       "      <th>3</th>\n",
       "      <td>7795-CFOCW</td>\n",
       "      <td>No</td>\n",
       "      <td>Yes</td>\n",
       "      <td>Yes</td>\n",
       "      <td>No</td>\n",
       "      <td>No</td>\n",
       "      <td>One year</td>\n",
       "      <td>No</td>\n",
       "      <td>Bank transfer (automatic)</td>\n",
       "      <td>42.30</td>\n",
       "      <td>1840.75</td>\n",
       "      <td>No</td>\n",
       "    </tr>\n",
       "    <tr>\n",
       "      <th>4</th>\n",
       "      <td>9237-HQITU</td>\n",
       "      <td>No</td>\n",
       "      <td>No</td>\n",
       "      <td>No</td>\n",
       "      <td>No</td>\n",
       "      <td>No</td>\n",
       "      <td>Month-to-month</td>\n",
       "      <td>Yes</td>\n",
       "      <td>Electronic check</td>\n",
       "      <td>70.70</td>\n",
       "      <td>151.65</td>\n",
       "      <td>Yes</td>\n",
       "    </tr>\n",
       "  </tbody>\n",
       "</table>\n",
       "</div>"
      ],
      "text/plain": [
       "   customerID OnlineBackup DeviceProtection TechSupport StreamingTV  \\\n",
       "0  7590-VHVEG          Yes               No          No          No   \n",
       "1  5575-GNVDE           No              Yes          No          No   \n",
       "2  3668-QPYBK          Yes               No          No          No   \n",
       "3  7795-CFOCW           No              Yes         Yes          No   \n",
       "4  9237-HQITU           No               No          No          No   \n",
       "\n",
       "  StreamingMovies        Contract PaperlessBilling              PaymentMethod  \\\n",
       "0              No  Month-to-month              Yes           Electronic check   \n",
       "1              No        One year               No               Mailed check   \n",
       "2              No  Month-to-month              Yes               Mailed check   \n",
       "3              No        One year               No  Bank transfer (automatic)   \n",
       "4              No  Month-to-month              Yes           Electronic check   \n",
       "\n",
       "   MonthlyCharges TotalCharges Churn  \n",
       "0           29.85        29.85    No  \n",
       "1           56.95       1889.5    No  \n",
       "2           53.85       108.15   Yes  \n",
       "3           42.30      1840.75    No  \n",
       "4           70.70       151.65   Yes  "
      ]
     },
     "execution_count": 5,
     "metadata": {},
     "output_type": "execute_result"
    }
   ],
   "source": [
    "# Check the features of TelcomCustomer-Churn_2\n",
    "teleCustChurn2_data.head()"
   ]
  },
  {
   "cell_type": "code",
   "execution_count": 6,
   "id": "4ca02a1e",
   "metadata": {},
   "outputs": [
    {
     "data": {
      "text/plain": [
       "70430"
      ]
     },
     "execution_count": 6,
     "metadata": {},
     "output_type": "execute_result"
    }
   ],
   "source": [
    "teleCustChurn1_data.size"
   ]
  },
  {
   "cell_type": "code",
   "execution_count": 7,
   "id": "9c66ed29",
   "metadata": {},
   "outputs": [
    {
     "data": {
      "text/plain": [
       "84516"
      ]
     },
     "execution_count": 7,
     "metadata": {},
     "output_type": "execute_result"
    }
   ],
   "source": [
    "teleCustChurn2_data.size"
   ]
  },
  {
   "cell_type": "code",
   "execution_count": 8,
   "id": "63a66d95",
   "metadata": {},
   "outputs": [],
   "source": [
    "teleCustMergedData = teleCustChurn1_data.merge( teleCustChurn2_data, on=['customerID'], how='inner')"
   ]
  },
  {
   "cell_type": "code",
   "execution_count": 9,
   "id": "b06e78b9",
   "metadata": {},
   "outputs": [
    {
     "data": {
      "text/plain": [
       "<bound method NDFrame.head of       customerID  gender  SeniorCitizen Partner Dependents  tenure  \\\n",
       "0     7590-VHVEG  Female              0     Yes         No       1   \n",
       "1     5575-GNVDE    Male              0      No         No      34   \n",
       "2     3668-QPYBK    Male              0      No         No       2   \n",
       "3     7795-CFOCW    Male              0      No         No      45   \n",
       "4     9237-HQITU  Female              0      No         No       2   \n",
       "...          ...     ...            ...     ...        ...     ...   \n",
       "7038  6840-RESVB    Male              0     Yes        Yes      24   \n",
       "7039  2234-XADUH  Female              0     Yes        Yes      72   \n",
       "7040  4801-JZAZL  Female              0     Yes        Yes      11   \n",
       "7041  8361-LTMKD    Male              1     Yes         No       4   \n",
       "7042  3186-AJIEK    Male              0      No         No      66   \n",
       "\n",
       "     PhoneService     MultipleLines InternetService OnlineSecurity  ...  \\\n",
       "0              No  No phone service             DSL             No  ...   \n",
       "1             Yes                No             DSL            Yes  ...   \n",
       "2             Yes                No             DSL            Yes  ...   \n",
       "3              No  No phone service             DSL            Yes  ...   \n",
       "4             Yes                No     Fiber optic             No  ...   \n",
       "...           ...               ...             ...            ...  ...   \n",
       "7038          Yes               Yes             DSL            Yes  ...   \n",
       "7039          Yes               Yes     Fiber optic             No  ...   \n",
       "7040           No  No phone service             DSL            Yes  ...   \n",
       "7041          Yes               Yes     Fiber optic             No  ...   \n",
       "7042          Yes                No     Fiber optic            Yes  ...   \n",
       "\n",
       "     DeviceProtection TechSupport StreamingTV StreamingMovies        Contract  \\\n",
       "0                  No          No          No              No  Month-to-month   \n",
       "1                 Yes          No          No              No        One year   \n",
       "2                  No          No          No              No  Month-to-month   \n",
       "3                 Yes         Yes          No              No        One year   \n",
       "4                  No          No          No              No  Month-to-month   \n",
       "...               ...         ...         ...             ...             ...   \n",
       "7038              Yes         Yes         Yes             Yes        One year   \n",
       "7039              Yes          No         Yes             Yes        One year   \n",
       "7040               No          No          No              No  Month-to-month   \n",
       "7041               No          No          No              No  Month-to-month   \n",
       "7042              Yes         Yes         Yes             Yes        Two year   \n",
       "\n",
       "     PaperlessBilling              PaymentMethod MonthlyCharges  TotalCharges  \\\n",
       "0                 Yes           Electronic check          29.85         29.85   \n",
       "1                  No               Mailed check          56.95        1889.5   \n",
       "2                 Yes               Mailed check          53.85        108.15   \n",
       "3                  No  Bank transfer (automatic)          42.30       1840.75   \n",
       "4                 Yes           Electronic check          70.70        151.65   \n",
       "...               ...                        ...            ...           ...   \n",
       "7038              Yes               Mailed check          84.80        1990.5   \n",
       "7039              Yes    Credit card (automatic)         103.20        7362.9   \n",
       "7040              Yes           Electronic check          29.60        346.45   \n",
       "7041              Yes               Mailed check          74.40         306.6   \n",
       "7042              Yes  Bank transfer (automatic)         105.65        6844.5   \n",
       "\n",
       "     Churn  \n",
       "0       No  \n",
       "1       No  \n",
       "2      Yes  \n",
       "3       No  \n",
       "4      Yes  \n",
       "...    ...  \n",
       "7038    No  \n",
       "7039    No  \n",
       "7040    No  \n",
       "7041   Yes  \n",
       "7042    No  \n",
       "\n",
       "[7043 rows x 21 columns]>"
      ]
     },
     "execution_count": 9,
     "metadata": {},
     "output_type": "execute_result"
    }
   ],
   "source": [
    "teleCustMergedData.head"
   ]
  },
  {
   "cell_type": "code",
   "execution_count": 10,
   "id": "b5b3b4aa",
   "metadata": {},
   "outputs": [
    {
     "data": {
      "text/plain": [
       "(7043, 21)"
      ]
     },
     "execution_count": 10,
     "metadata": {},
     "output_type": "execute_result"
    }
   ],
   "source": [
    "teleCustMergedData.shape"
   ]
  },
  {
   "cell_type": "markdown",
   "id": "19c123a1",
   "metadata": {},
   "source": [
    "\n",
    "***Q 1D.Verify if all the columns are incorporated in the merged DataFrame by using simple comparison Operator in Python.***"
   ]
  },
  {
   "cell_type": "code",
   "execution_count": 11,
   "id": "0c0f9603",
   "metadata": {},
   "outputs": [
    {
     "data": {
      "text/plain": [
       "True    7043\n",
       "Name: customerID, dtype: int64"
      ]
     },
     "execution_count": 11,
     "metadata": {},
     "output_type": "execute_result"
    }
   ],
   "source": [
    "teleCustChurn1_data['customerID'].isin(teleCustChurn2_data['customerID']).value_counts()"
   ]
  },
  {
   "cell_type": "markdown",
   "id": "a1d4795d",
   "metadata": {},
   "source": [
    "***Ans 1D.***  The row counts of merged data is same as the common values in customerID feature between TelcomCustomer-Churn_1 and TelcomCustomer-Churn_2 csv files"
   ]
  },
  {
   "cell_type": "markdown",
   "id": "bc1fe375",
   "metadata": {},
   "source": [
    "\n",
    "\n",
    "\n",
    "*** 2. Data Cleaning & Analysis: ***\n",
    "\n",
    "***Q 2A. . Impute missing/unexpected values in the DataFrame***\n",
    "\n"
   ]
  },
  {
   "cell_type": "code",
   "execution_count": 12,
   "id": "47686cda",
   "metadata": {},
   "outputs": [
    {
     "data": {
      "text/plain": [
       "customerID          0\n",
       "gender              0\n",
       "SeniorCitizen       0\n",
       "Partner             0\n",
       "Dependents          0\n",
       "tenure              0\n",
       "PhoneService        0\n",
       "MultipleLines       0\n",
       "InternetService     0\n",
       "OnlineSecurity      0\n",
       "OnlineBackup        0\n",
       "DeviceProtection    0\n",
       "TechSupport         0\n",
       "StreamingTV         0\n",
       "StreamingMovies     0\n",
       "Contract            0\n",
       "PaperlessBilling    0\n",
       "PaymentMethod       0\n",
       "MonthlyCharges      0\n",
       "TotalCharges        0\n",
       "Churn               0\n",
       "dtype: int64"
      ]
     },
     "execution_count": 12,
     "metadata": {},
     "output_type": "execute_result"
    }
   ],
   "source": [
    "teleCustMergedData.isnull().sum()"
   ]
  },
  {
   "cell_type": "code",
   "execution_count": 13,
   "id": "ec28c22f",
   "metadata": {},
   "outputs": [
    {
     "data": {
      "text/plain": [
       "customerID           object\n",
       "gender               object\n",
       "SeniorCitizen         int64\n",
       "Partner              object\n",
       "Dependents           object\n",
       "tenure                int64\n",
       "PhoneService         object\n",
       "MultipleLines        object\n",
       "InternetService      object\n",
       "OnlineSecurity       object\n",
       "OnlineBackup         object\n",
       "DeviceProtection     object\n",
       "TechSupport          object\n",
       "StreamingTV          object\n",
       "StreamingMovies      object\n",
       "Contract             object\n",
       "PaperlessBilling     object\n",
       "PaymentMethod        object\n",
       "MonthlyCharges      float64\n",
       "TotalCharges         object\n",
       "Churn                object\n",
       "dtype: object"
      ]
     },
     "execution_count": 13,
     "metadata": {},
     "output_type": "execute_result"
    }
   ],
   "source": [
    "teleCustMergedData.dtypes"
   ]
  },
  {
   "cell_type": "code",
   "execution_count": 14,
   "id": "45b8c649",
   "metadata": {},
   "outputs": [
    {
     "name": "stdout",
     "output_type": "stream",
     "text": [
      "Skipping Customer ID column\n",
      "Unique Values for gender\n",
      "Male      3555\n",
      "Female    3488\n",
      "Name: gender, dtype: int64\n",
      "Skipping Column : SeniorCitizen\n",
      "Unique Values for Partner\n",
      "No     3641\n",
      "Yes    3402\n",
      "Name: Partner, dtype: int64\n",
      "Unique Values for Dependents\n",
      "No     4933\n",
      "Yes    2110\n",
      "Name: Dependents, dtype: int64\n",
      "Skipping Column : tenure\n",
      "Unique Values for PhoneService\n",
      "Yes    6361\n",
      "No      682\n",
      "Name: PhoneService, dtype: int64\n",
      "Unique Values for MultipleLines\n",
      "No                  3390\n",
      "Yes                 2971\n",
      "No phone service     682\n",
      "Name: MultipleLines, dtype: int64\n",
      "Unique Values for InternetService\n",
      "Fiber optic    3096\n",
      "DSL            2421\n",
      "No             1526\n",
      "Name: InternetService, dtype: int64\n",
      "Unique Values for OnlineSecurity\n",
      "No                     3498\n",
      "Yes                    2019\n",
      "No internet service    1526\n",
      "Name: OnlineSecurity, dtype: int64\n",
      "Unique Values for OnlineBackup\n",
      "No                     3088\n",
      "Yes                    2429\n",
      "No internet service    1526\n",
      "Name: OnlineBackup, dtype: int64\n",
      "Unique Values for DeviceProtection\n",
      "No                     3095\n",
      "Yes                    2422\n",
      "No internet service    1526\n",
      "Name: DeviceProtection, dtype: int64\n",
      "Unique Values for TechSupport\n",
      "No                     3473\n",
      "Yes                    2044\n",
      "No internet service    1526\n",
      "Name: TechSupport, dtype: int64\n",
      "Unique Values for StreamingTV\n",
      "No                     2810\n",
      "Yes                    2707\n",
      "No internet service    1526\n",
      "Name: StreamingTV, dtype: int64\n",
      "Unique Values for StreamingMovies\n",
      "No                     2785\n",
      "Yes                    2732\n",
      "No internet service    1526\n",
      "Name: StreamingMovies, dtype: int64\n",
      "Unique Values for Contract\n",
      "Month-to-month    3875\n",
      "Two year          1695\n",
      "One year          1473\n",
      "Name: Contract, dtype: int64\n",
      "Unique Values for PaperlessBilling\n",
      "Yes    4171\n",
      "No     2872\n",
      "Name: PaperlessBilling, dtype: int64\n",
      "Unique Values for PaymentMethod\n",
      "Electronic check             2365\n",
      "Mailed check                 1612\n",
      "Bank transfer (automatic)    1544\n",
      "Credit card (automatic)      1522\n",
      "Name: PaymentMethod, dtype: int64\n",
      "Skipping Column : MonthlyCharges\n",
      "Unique Values for TotalCharges\n",
      "          11\n",
      "20.2      11\n",
      "19.75      9\n",
      "20.05      8\n",
      "19.9       8\n",
      "          ..\n",
      "6849.4     1\n",
      "692.35     1\n",
      "130.15     1\n",
      "3211.9     1\n",
      "6844.5     1\n",
      "Name: TotalCharges, Length: 6531, dtype: int64\n",
      "Unique Values for Churn\n",
      "No     5174\n",
      "Yes    1869\n",
      "Name: Churn, dtype: int64\n"
     ]
    }
   ],
   "source": [
    "#Check unique values in each column\n",
    "\n",
    "for colmn in teleCustMergedData:\n",
    "    if colmn == 'customerID' :\n",
    "        print('Skipping Customer ID column')\n",
    "    elif teleCustMergedData[colmn].dtypes == 'object' :\n",
    "        print('Unique Values for ' + colmn)\n",
    "        print(teleCustMergedData[colmn].value_counts())\n",
    "    else :\n",
    "        print('Skipping Column : ' + colmn)\n",
    "    \n"
   ]
  },
  {
   "cell_type": "code",
   "execution_count": 15,
   "id": "1add9dd1",
   "metadata": {},
   "outputs": [
    {
     "name": "stdout",
     "output_type": "stream",
     "text": [
      "7043\n",
      "          11\n",
      "20.2      11\n",
      "19.75      9\n",
      "20.05      8\n",
      "19.9       8\n",
      "          ..\n",
      "6849.4     1\n",
      "692.35     1\n",
      "130.15     1\n",
      "3211.9     1\n",
      "6844.5     1\n",
      "Name: TotalCharges, Length: 6531, dtype: int64\n",
      "2283.3004408418697\n"
     ]
    }
   ],
   "source": [
    "#teleCustMergedData[ 'TotalCharges' ].fillna('Nan', inplace = True)\n",
    "print( teleCustMergedData['TotalCharges'].count() )\n",
    "print(teleCustMergedData[ 'TotalCharges' ].value_counts())\n",
    "teleCustMergedData_dup = pd.DataFrame.from_dict(teleCustMergedData)\n",
    "\n",
    "# Find the mean value to fill in\n",
    "meanvalue =  (pd.to_numeric(teleCustMergedData_dup['TotalCharges'], errors='coerce')).mean()\n",
    "print(meanvalue)\n",
    "\n",
    "teleCustMergedData.loc[teleCustMergedData['TotalCharges']==' ',  'TotalCharges'] = meanvalue\n",
    "\n",
    "#Update the Nan columns with mean value\n",
    "#teleCustMergedData[ 'TotalCharges' ] =   teleCustMergedData[ 'TotalCharges' ].fillna(meanvalue, downcast=dict, inplace=True)\n",
    "\n"
   ]
  },
  {
   "cell_type": "markdown",
   "id": "19c22528",
   "metadata": {},
   "source": [
    "\n",
    "***Q 2B Make sure all the variables with continuous values are of ‘Float’ type***\n",
    "\n",
    "***Ans 2B.***\n",
    "Use the astype function to change the datatype of the columns"
   ]
  },
  {
   "cell_type": "code",
   "execution_count": 16,
   "id": "931d31e1",
   "metadata": {},
   "outputs": [
    {
     "data": {
      "text/plain": [
       "7043"
      ]
     },
     "execution_count": 16,
     "metadata": {},
     "output_type": "execute_result"
    }
   ],
   "source": [
    "teleCustMergedData[\"TotalCharges\"].count()"
   ]
  },
  {
   "cell_type": "code",
   "execution_count": 17,
   "id": "0dc0edce",
   "metadata": {},
   "outputs": [
    {
     "data": {
      "text/plain": [
       "count    7043.000000\n",
       "mean     2283.300441\n",
       "std      2265.000258\n",
       "min        18.800000\n",
       "25%       402.225000\n",
       "50%      1400.550000\n",
       "75%      3786.600000\n",
       "max      8684.800000\n",
       "Name: TotalCharges, dtype: float64"
      ]
     },
     "execution_count": 17,
     "metadata": {},
     "output_type": "execute_result"
    }
   ],
   "source": [
    "\n",
    "# Convert TotalCharges into float as other object data type columns are Categorical type\n",
    "teleCustMergedData[\"TotalCharges\"]       = teleCustMergedData[\"TotalCharges\"].astype(float)\n",
    "teleCustMergedData[\"TotalCharges\"].describe()"
   ]
  },
  {
   "cell_type": "code",
   "execution_count": 18,
   "id": "5434c089",
   "metadata": {},
   "outputs": [
    {
     "data": {
      "text/plain": [
       "7043"
      ]
     },
     "execution_count": 18,
     "metadata": {},
     "output_type": "execute_result"
    }
   ],
   "source": [
    "teleCustMergedData[\"TotalCharges\"].count()"
   ]
  },
  {
   "cell_type": "code",
   "execution_count": 19,
   "id": "a90ef5bd",
   "metadata": {},
   "outputs": [
    {
     "data": {
      "text/plain": [
       "customerID           object\n",
       "gender               object\n",
       "SeniorCitizen         int64\n",
       "Partner              object\n",
       "Dependents           object\n",
       "tenure                int64\n",
       "PhoneService         object\n",
       "MultipleLines        object\n",
       "InternetService      object\n",
       "OnlineSecurity       object\n",
       "OnlineBackup         object\n",
       "DeviceProtection     object\n",
       "TechSupport          object\n",
       "StreamingTV          object\n",
       "StreamingMovies      object\n",
       "Contract             object\n",
       "PaperlessBilling     object\n",
       "PaymentMethod        object\n",
       "MonthlyCharges      float64\n",
       "TotalCharges        float64\n",
       "Churn                object\n",
       "dtype: object"
      ]
     },
     "execution_count": 19,
     "metadata": {},
     "output_type": "execute_result"
    }
   ],
   "source": [
    "#Check the dattype change\n",
    "teleCustMergedData.dtypes"
   ]
  },
  {
   "cell_type": "markdown",
   "id": "4df12a2c",
   "metadata": {},
   "source": [
    "\n",
    "***Q 2C. Create a function that will accept a DataFrame as input and return pie-charts for all the appropriate Categorical features. Clearly show percentage\n",
    "distribution in the pie-chart***\n",
    "\n",
    "***Ans 2C.***"
   ]
  },
  {
   "cell_type": "code",
   "execution_count": 20,
   "id": "2a24980c",
   "metadata": {
    "scrolled": true
   },
   "outputs": [
    {
     "name": "stdout",
     "output_type": "stream",
     "text": [
      "Skipping Customer id as it is unique\n"
     ]
    },
    {
     "data": {
      "image/png": "[encoded data removed]",
      "text/plain": [
       "<Figure size 1080x1008 with 16 Axes>"
      ]
     },
     "metadata": {},
     "output_type": "display_data"
    }
   ],
   "source": [
    "#create a sub function to recieve the dataframe and print the pie chart using the column/feature attrbiutes\n",
    "def PublishCatgPieChart(inDf) :\n",
    "    # declare the subplot index number\n",
    "    subplotnum = 1;\n",
    "    #set the figure size big enough tomplot 16 pi charts\n",
    "    plt.figure(figsize=[15,14])\n",
    "    # set the color schemes using the hex codes for changing default color pallette\n",
    "    clrPalt = [\"#42a5f5\", \"#82EEFD\", \"#E39FF6\", \"#FA86C4\"]\n",
    "    #Iterate the dataframe columns to print the pie chart\n",
    "    for colmn in inDf:\n",
    "        #Check if the column type is not continous and is Categorical\n",
    "        if colmn == 'customerID' :\n",
    "            print(\"Skipping Customer id as it is unique\")\n",
    "        elif inDf[colmn].dtypes == 'object' :\n",
    "            # use the unique value counts to be used as pie values\n",
    "            pievalues = inDf[ colmn ].value_counts()\n",
    "            # use the index  values as labels\n",
    "            pielabels = pd.Series(pievalues.index, dtype=str)\n",
    "             # Plotting the pie chart for each Categorical column in dataframe\n",
    "            plt.subplot(4,4,subplotnum) \n",
    "            plt.title( colmn )\n",
    "            subplotnum = subplotnum + 1\n",
    "            plt.pie( pievalues, labels=pielabels, colors=clrPalt, autopct='%1.0f%%' )\n",
    "                                \n",
    "\n",
    "                \n",
    "# call the sub fucntion to print the pie charts by passing the dataframe.         \n",
    "PublishCatgPieChart(teleCustMergedData)    "
   ]
  },
  {
   "cell_type": "markdown",
   "id": "f791a1dc",
   "metadata": {},
   "source": [
    "\n",
    "***Q 2D. Share insights for Q2.c.***\n",
    "\n",
    "***Ans. 2D.***"
   ]
  },
  {
   "cell_type": "code",
   "execution_count": 21,
   "id": "11a99b50",
   "metadata": {
    "scrolled": true
   },
   "outputs": [
    {
     "name": "stdout",
     "output_type": "stream",
     "text": [
      "People Not using Phone Service : 682\n",
      "People using Multiple Lines with no phone service: 682\n"
     ]
    },
    {
     "data": {
      "text/plain": [
       "customerID          7043\n",
       "gender              7043\n",
       "SeniorCitizen       7043\n",
       "Partner             7043\n",
       "Dependents          7043\n",
       "tenure              7043\n",
       "PhoneService        7043\n",
       "MultipleLines       7043\n",
       "InternetService     7043\n",
       "OnlineSecurity      7043\n",
       "OnlineBackup        7043\n",
       "DeviceProtection    7043\n",
       "TechSupport         7043\n",
       "StreamingTV         7043\n",
       "StreamingMovies     7043\n",
       "Contract            7043\n",
       "PaperlessBilling    7043\n",
       "PaymentMethod       7043\n",
       "MonthlyCharges      7043\n",
       "TotalCharges        7043\n",
       "Churn               7043\n",
       "dtype: int64"
      ]
     },
     "execution_count": 21,
     "metadata": {},
     "output_type": "execute_result"
    }
   ],
   "source": [
    "phser = teleCustMergedData.loc[ teleCustMergedData['PhoneService']== 'No']\n",
    "print('People Not using Phone Service : ' + str(phser['PhoneService'].count()))\n",
    "phser = teleCustMergedData.loc[ teleCustMergedData['MultipleLines']== 'No phone service']\n",
    "print('People using Multiple Lines with no phone service: ' + str(phser['MultipleLines'].count()))\n",
    "teleCustMergedData.count()\n"
   ]
  },
  {
   "cell_type": "markdown",
   "id": "25a16e7f",
   "metadata": {},
   "source": [
    "Observations\n",
    "- Gender           :  Subscriber's Data contains both the gender equally\n",
    "- Partner          :  More than half of the Subscribers have a partner              \n",
    "- Dependents       :  Dependents are comparetively less than the partners at 30%      \n",
    "- PhoneService     :  Only 1/10th of the subscribers do not use the Telephone service    \n",
    "- MultipleLines    :  Apart from the 10% having no phone service, close to 50% have single line and rest have more than one line \n",
    "- InternetService  :  Slightly around above 20% have no internet service, around 2/5th use Fiber optic internet service and rest uses DSL\n",
    "- OnlineSecurity   :  Half of the users have secured their internet service, close to 1/3rd has no security even though they use the internet service  and for the rest, just above 20%,  security does not apply as they dont use the internet.   \n",
    "- 22% of them who has no 'Internet service' there is NO option for 'OnlineBackup',   'DeviceProtection',  'TechSupport' , 'StreamingTV', 'StreamingMovies' is applicable.\n",
    "- Contract         : More subscribers are opting for Month-to-Month contract than long term like 1 year or 2 year contract and might be thinking it might be easier  to switch over to another provider without breaking contract and avoid penalty\n",
    "- PaperlessBilling : Viewing and storing bills online is higher among the sibscriber   \n",
    "- PaymentMethod    : 75% of the subscribers use digital payment methods rather than paper checks   \n",
    "      \n"
   ]
  },
  {
   "cell_type": "markdown",
   "id": "d6387a6e",
   "metadata": {},
   "source": [
    "\n",
    "***Q 2E. Encode all the appropriate Categorical features with the best suitable approach.***\n",
    "\n",
    "***Ans 2E. Perform one-hot encoding for categorical variables based on the values***"
   ]
  },
  {
   "cell_type": "code",
   "execution_count": 22,
   "id": "b96c793f",
   "metadata": {},
   "outputs": [],
   "source": [
    "# As Gender and PhoneService features might infleunce the churn hot encoding is done and for rest of the categorical features the values are replaced using a continous variable value system\n",
    "hotEncodedFeatures = ['gender', 'PhoneService']\n",
    "restructFeatVals = {\n",
    "                   'Partner' : {'No': 1, 'Yes' : 2},\n",
    "                   'Dependents' : {'No': 1, 'Yes' : 2},\n",
    "                   'PaperlessBilling' : {'No': 1, 'Yes' : 2},\n",
    "                   'MultipleLines' : {'No': 1, 'Yes' : 2, 'No phone service' : 3},\n",
    "                   'InternetService' : {'DSL': 1,  'Fiber optic' : 2, 'No'  : 3},\n",
    "                   'OnlineSecurity' : {'No': 1, 'Yes' : 2, 'No internet service' : 3},\n",
    "                   'DeviceProtection' : {'No': 1, 'Yes' : 2, 'No internet service' : 3},\n",
    "                   'TechSupport' : {'No': 1, 'Yes' : 2, 'No internet service' : 3},\n",
    "                   'StreamingTV' : {'No': 1, 'Yes' : 2, 'No internet service' : 3},\n",
    "                   'StreamingMovies' : {'No': 1, 'Yes' : 2, 'No internet service' : 3},\n",
    "                   'OnlineBackup' : {'No': 1, 'Yes' : 2, 'No internet service' : 3},\n",
    "                   'Contract' : {'Month-to-month' : 1, 'One year' : 2, 'Two year' : 3},\n",
    "                   'PaymentMethod' : {'Credit card (automatic)' : 1, 'Bank transfer (automatic)' : 2, 'Electronic check' : 3, 'Mailed check' : 4},\n",
    "                   'Churn' : {'No': 0 , 'Yes' : 1}\n",
    "                         }\n",
    "\n",
    "#Use the restructured dict to replqce the categorical values\n",
    "teleCustMergedData = teleCustMergedData.replace( restructFeatVals )\n",
    "\n",
    "#use one hot coding for two features\n",
    "teleCustMergedData = pd.get_dummies(teleCustMergedData, columns=hotEncodedFeatures)\n",
    "#teleCustMergedData.head(25)"
   ]
  },
  {
   "cell_type": "markdown",
   "id": "fa93a053",
   "metadata": {},
   "source": [
    "\n",
    "***Q 2F. Split the data into 80% train and 20% test.***\n",
    "\n",
    "***Ans 2F.***"
   ]
  },
  {
   "cell_type": "code",
   "execution_count": 23,
   "id": "8c5c9b2d",
   "metadata": {},
   "outputs": [],
   "source": [
    "#Split the columns with churn as a single data set and rest of the features as another dataset, CustomerID is dropped as does not add any value\n",
    "X = teleCustMergedData.drop(['Churn','customerID'] , axis=1)\n",
    "Y = teleCustMergedData['Churn']\n"
   ]
  },
  {
   "cell_type": "code",
   "execution_count": 24,
   "id": "8fabc191",
   "metadata": {},
   "outputs": [],
   "source": [
    "#import the libraries to split the data\n",
    "from sklearn.model_selection import train_test_split\n",
    "from scipy.stats import zscore\n",
    "X_Z_Scaled = X.apply(zscore)\n",
    "X_train, X_test, Y_train, Y_test = train_test_split(X_Z_Scaled, Y, test_size=0.20, random_state=2)\n"
   ]
  },
  {
   "cell_type": "markdown",
   "id": "c0df118f",
   "metadata": {},
   "source": [
    "\n",
    "***Q 2G. Normalize/Standardize the data with the best suitable approach.***\n",
    "\n",
    "***Ans 2G.***"
   ]
  },
  {
   "cell_type": "code",
   "execution_count": 25,
   "id": "7622b5c5",
   "metadata": {},
   "outputs": [],
   "source": [
    "#Use the MinMaxScaler class to normalize/ standardize as we have negatie values to signify that they dont add value to categorical classification\n",
    "from sklearn.preprocessing import MinMaxScaler"
   ]
  },
  {
   "cell_type": "code",
   "execution_count": 26,
   "id": "0e476813",
   "metadata": {},
   "outputs": [],
   "source": [
    "# declare the MinMaxScaler object\n",
    "NormzStdScaler = MinMaxScaler()\n",
    "\n",
    "#Transform the data\n",
    "X_train_NrmStd = NormzStdScaler.fit_transform(X_train)\n",
    "X_test_NrmStd = NormzStdScaler.fit_transform(X_test)\n"
   ]
  },
  {
   "cell_type": "markdown",
   "id": "9bb5d0bd",
   "metadata": {},
   "source": [
    "\n",
    "*** 3. Model building and Improvement: ***\n",
    "\n",
    "***Q 3A. Train a model using XGBoost. Also print best performing parameters along with train and test performance.***\n",
    "\n",
    "***Ans 3A Use the XGBRegressor to train and identidy the best performing parameters based on***\n",
    "\n",
    "- n_estimators - boosting rounds\n",
    "- Learning rate eta\n",
    "- maximum tree depth for base learners"
   ]
  },
  {
   "cell_type": "code",
   "execution_count": 27,
   "id": "f3d782f4",
   "metadata": {},
   "outputs": [
    {
     "name": "stdout",
     "output_type": "stream",
     "text": [
      "Requirement already satisfied: xgboost in c:\\programdata\\anaconda3\\lib\\site-packages (1.6.0)\n",
      "Requirement already satisfied: scipy in c:\\programdata\\anaconda3\\lib\\site-packages (from xgboost) (1.7.1)\n",
      "Requirement already satisfied: numpy in c:\\programdata\\anaconda3\\lib\\site-packages (from xgboost) (1.20.3)\n",
      "Note: you may need to restart the kernel to use updated packages.\n"
     ]
    }
   ],
   "source": [
    "%pip install xgboost\n",
    "import xgboost as xgb\n"
   ]
  },
  {
   "cell_type": "code",
   "execution_count": 28,
   "id": "e7650367",
   "metadata": {},
   "outputs": [],
   "source": [
    "from sklearn.model_selection import GridSearchCV\n",
    "from sklearn.metrics import r2_score\n",
    "from sklearn.metrics import accuracy_score\n",
    "from sklearn.metrics import confusion_matrix\n",
    "from sklearn.model_selection import cross_val_score, KFold"
   ]
  },
  {
   "cell_type": "code",
   "execution_count": 29,
   "id": "71a8224b",
   "metadata": {},
   "outputs": [
    {
     "name": "stdout",
     "output_type": "stream",
     "text": [
      "R score is :  0.2154709136165368\n",
      " Mean cross-validation-score is : 0.19\n",
      " K-Fold  Avg score is : 0.21\n"
     ]
    }
   ],
   "source": [
    "#declare the XGBRegresser object\n",
    "xgbReg = xgb.XGBRegressor()\n",
    "\n",
    "# train the model\n",
    "xgbReg.fit(X_train_NrmStd, Y_train)\n",
    "\n",
    "#predict outputs\n",
    "xgbPredics = xgbReg.predict(X_test_NrmStd)\n",
    "\n",
    "# using r square as a measure of accuracy as the accuracy and confusion matrix fail for continous targets and they work best on classification targets\n",
    "print( 'R score is : ', r2_score( Y_test, xgbPredics ) )\n",
    "\n",
    "scores = cross_val_score( xgbReg, X_train_NrmStd, Y_train, cv=5)\n",
    "print(' Mean cross-validation-score is : %.2f' % scores.mean() )\n",
    "\n",
    "kfold = KFold(n_splits=10, shuffle=True)\n",
    "KF_scores = cross_val_score( xgbReg, X_train_NrmStd, Y_train, cv=kfold)\n",
    "print(' K-Fold  Avg score is : %.2f' % KF_scores.mean() )"
   ]
  },
  {
   "cell_type": "markdown",
   "id": "70bb4d79",
   "metadata": {},
   "source": [
    "\n",
    "\n",
    "Single iteration resulted in lesser preidtion score,  hence use multiple iterations with combination of boosting rounds(n_estimators), Learning rate (eta) and maximum depth values\n",
    "\n"
   ]
  },
  {
   "cell_type": "code",
   "execution_count": 30,
   "id": "332e4681",
   "metadata": {},
   "outputs": [
    {
     "name": "stdout",
     "output_type": "stream",
     "text": [
      "Best Extimator from grid search :  XGBRegressor(base_score=0.5, booster='gbtree', callbacks=None,\n",
      "             colsample_bylevel=1, colsample_bynode=1, colsample_bytree=1,\n",
      "             early_stopping_rounds=None, enable_categorical=False,\n",
      "             eval_metric=None, gamma=0, gpu_id=-1, grow_policy='depthwise',\n",
      "             importance_type=None, interaction_constraints='',\n",
      "             learning_rate=0.1, max_bin=256, max_cat_to_onehot=4,\n",
      "             max_delta_step=0, max_depth=4, max_leaves=0, min_child_weight=1,\n",
      "             missing=nan, monotone_constraints='()', n_estimators=38, n_jobs=0,\n",
      "             num_parallel_tree=1, predictor='auto', random_state=0, reg_alpha=0,\n",
      "             reg_lambda=1, ...)\n"
     ]
    }
   ],
   "source": [
    "#declare the XGBRegresser object\n",
    "xgbRegnew =  xgb.XGBRegressor()\n",
    "params={'n_estimators': range(1,50),  'learning_rate' : [0.1,0.2, 0.4, 0.6], 'max_depth':[2,4,5,6,8]}\n",
    "gridSrch=GridSearchCV(estimator=xgbRegnew, cv=2, param_grid=params, scoring='neg_mean_squared_error')\n",
    "\n",
    "#Train the model\n",
    "gridSrch.fit(X_train_NrmStd, Y_train)\n",
    "\n",
    "print('Best Extimator from grid search : ' , gridSrch.best_estimator_)"
   ]
  },
  {
   "cell_type": "markdown",
   "id": "84b78e03",
   "metadata": {},
   "source": [
    "The optimized parameters like \n",
    "- max_depth as 4\n",
    "- n_estimators as 38\n",
    "- learning rate as 0.1\n",
    "\n",
    "are identified from the regression"
   ]
  },
  {
   "cell_type": "code",
   "execution_count": 31,
   "id": "7b0487a3",
   "metadata": {},
   "outputs": [
    {
     "name": "stdout",
     "output_type": "stream",
     "text": [
      "R score optimized XGB:  0.29660995476611973\n",
      " Mean cross-validation-score is : 0.30\n",
      " K-Fold  Avg score is : 0.30\n"
     ]
    }
   ],
   "source": [
    "# use the best performing parameters from the grid search optimized param results\n",
    "xgbBestPerfm =  xgb.XGBRegressor(\n",
    "                 base_score=0.5, booster='gbtree', callbacks=None,\n",
    "                 colsample_bylevel=1, colsample_bynode=1, colsample_bytree=1,\n",
    "                 early_stopping_rounds=None, enable_categorical=False,\n",
    "                 eval_metric=None, gamma=0, gpu_id=-1, grow_policy='depthwise',\n",
    "                 importance_type=None, interaction_constraints='',\n",
    "                 learning_rate=0.1, max_bin=256, max_cat_to_onehot=4,\n",
    "                 max_delta_step=0, max_depth=4, max_leaves=0, min_child_weight=1,\n",
    "                  monotone_constraints='()', n_estimators=38, n_jobs=0,\n",
    "                 num_parallel_tree=1, predictor='auto', random_state=0, reg_alpha=0,\n",
    "                 reg_lambda=1, \n",
    "                 scale_pos_weight=1, subsample=1, tree_method='exact', validate_parameters=1, verbosity=None\n",
    "                 )\n",
    "\n",
    "# Train the model\n",
    "xgbBestPerfm.fit( X_train_NrmStd, Y_train )\n",
    "\n",
    "#predict outputs\n",
    "xgbPredict2 = xgbBestPerfm.predict(X_test_NrmStd)\n",
    "print( 'R score optimized XGB: ', r2_score( Y_test, xgbPredict2 ) )\n",
    "\n",
    "scores = cross_val_score( xgbBestPerfm, X_train_NrmStd, Y_train, cv=5)\n",
    "print(' Mean cross-validation-score is : %.2f' % scores.mean() )\n",
    "\n",
    "kfold = KFold(n_splits=10, shuffle=True)\n",
    "KF_scores = cross_val_score( xgbBestPerfm, X_train_NrmStd, Y_train, cv=kfold)\n",
    "print(' K-Fold  Avg score is : %.2f' % KF_scores.mean() )"
   ]
  },
  {
   "cell_type": "markdown",
   "id": "b07ef8a2",
   "metadata": {},
   "source": [
    "***Ans 3A***\n",
    "The prediction R mean square score has improved by 9 points based on the optimized paramters.\n",
    "The cross-validation and KFold increased by 11 and 9 pts respectively.\n",
    "\n",
    "\n",
    "\n",
    "\n",
    "***Q 3B. Improve performance of the XGBoost as much as possible. Also print best performing parameters along with train and test performance***\n",
    "\n",
    "***Ans 3B.***\n",
    "By reducing the learning rate and increase the boosting rounds lets find out the optimum parameters"
   ]
  },
  {
   "cell_type": "code",
   "execution_count": 32,
   "id": "4026f17b",
   "metadata": {},
   "outputs": [
    {
     "name": "stdout",
     "output_type": "stream",
     "text": [
      "Best Extimator from grid search :  XGBRegressor(base_score=0.5, booster='gbtree', callbacks=None,\n",
      "             colsample_bylevel=1, colsample_bynode=1, colsample_bytree=1,\n",
      "             early_stopping_rounds=None, enable_categorical=False,\n",
      "             eval_metric=None, gamma=0, gpu_id=-1, grow_policy='depthwise',\n",
      "             importance_type=None, interaction_constraints='',\n",
      "             learning_rate=0.05, max_bin=256, max_cat_to_onehot=4,\n",
      "             max_delta_step=0, max_depth=4, max_leaves=0, min_child_weight=1,\n",
      "             missing=nan, monotone_constraints='()', n_estimators=73, n_jobs=0,\n",
      "             num_parallel_tree=1, predictor='auto', random_state=0, reg_alpha=0,\n",
      "             reg_lambda=1, ...)\n"
     ]
    }
   ],
   "source": [
    "#declare the XGBRegresser object\n",
    "xgbRegnew1 =  xgb.XGBRegressor()\n",
    "\n",
    "#use range 1 to 75\n",
    "params1={'n_estimators': range(1,75),  'learning_rate' : [0.05,0.75, 0.1, 0.125, 0.15, 0.175], 'max_depth':[2,4,5,6,8]}\n",
    "gridSrch1=GridSearchCV(estimator=xgbRegnew1, cv=2, param_grid=params1, scoring='neg_mean_squared_error')\n",
    "\n",
    "#Train the model\n",
    "gridSrch1.fit(X_train_NrmStd, Y_train)\n",
    "\n",
    "print('Best Extimator from grid search : ' , gridSrch1.best_estimator_)"
   ]
  },
  {
   "cell_type": "markdown",
   "id": "61fdb886",
   "metadata": {},
   "source": [
    "The optimized parameters like \n",
    "- max_depth as 4\n",
    "- n_estimators as 73 (boosting rounds)\n",
    "- learning rate as 0.05\n",
    "\n",
    "are identified from the regression"
   ]
  },
  {
   "cell_type": "code",
   "execution_count": 33,
   "id": "5d44dd88",
   "metadata": {},
   "outputs": [
    {
     "name": "stdout",
     "output_type": "stream",
     "text": [
      "R score optimized XGB:  0.29496654739657\n",
      " Mean cross-validation-score is : 0.30\n",
      " K-Fold  Avg score is : 0.31\n"
     ]
    }
   ],
   "source": [
    "# use the best performing parameters from the grid search optimized param results\n",
    "xgbBestPerfm1 =  xgb.XGBRegressor(\n",
    "                  base_score=0.5, booster='gbtree', callbacks=None,\n",
    "                 colsample_bylevel=1, colsample_bynode=1, colsample_bytree=1,\n",
    "                 early_stopping_rounds=None, enable_categorical=False,\n",
    "                 eval_metric=None, gamma=0, gpu_id=-1, grow_policy='depthwise',\n",
    "                 importance_type=None, interaction_constraints='',\n",
    "                 learning_rate=0.05, max_bin=256, max_cat_to_onehot=4,\n",
    "                 max_delta_step=0, max_depth=4, max_leaves=0, min_child_weight=1,\n",
    "                 monotone_constraints='()', n_estimators=73, n_jobs=0,\n",
    "                 num_parallel_tree=1, predictor='auto', random_state=0, reg_alpha=0,\n",
    "                 reg_lambda=1, \n",
    "                 scale_pos_weight=1, subsample=1, tree_method='exact', validate_parameters=1, verbosity=None\n",
    "                 )\n",
    "\n",
    "# Train the model\n",
    "xgbBestPerfm1.fit( X_train_NrmStd, Y_train )\n",
    "\n",
    "#predict outputs\n",
    "xgbPredict3 = xgbBestPerfm1.predict(X_test_NrmStd)\n",
    "print( 'R score optimized XGB: ', r2_score( Y_test, xgbPredict3 ) )\n",
    "\n",
    "scores = cross_val_score( xgbBestPerfm1, X_train_NrmStd, Y_train, cv=5)\n",
    "print(' Mean cross-validation-score is : %.2f' % scores.mean() )\n",
    "\n",
    "kfold = KFold(n_splits=10, shuffle=True)\n",
    "KF_scores = cross_val_score( xgbBestPerfm1, X_train_NrmStd, Y_train, cv=kfold)\n",
    "print(' K-Fold  Avg score is : %.2f' % KF_scores.mean() )"
   ]
  },
  {
   "cell_type": "markdown",
   "id": "c25a05a0",
   "metadata": {},
   "source": [
    "The R score has improved by little.\n",
    "The cross-validation-score and KFold improved by 1 pt"
   ]
  },
  {
   "cell_type": "markdown",
   "id": "1a6bc9e5",
   "metadata": {},
   "source": [
    "\n",
    "\n",
    "---\n",
    "\n",
    "**Part B**\n",
    "\n",
    "\n",
    " CONTEXT: The purpose is to build a machine learning workflow that will work autonomously irrespective of Data and users can save efforts \n",
    "involved in building workflows for each dataset.\n",
    "- PROJECT OBJECTIVE: Build a machine learning workflow that will run autonomously with the csv file and return best performing model.\n",
    "\n",
    "- STEPS AND TASK\n",
    "1. Build a simple ML workflow which will accept a single ‘.csv’ file as input and return a trained base model that can be used for predictions. You can use \n",
    "1 Dataset from Part 1 (single/merged).\n",
    "2. Create separate functions for various purposes.\n",
    "3. Various base models should be trained to select the best performing model.\n",
    "4. Pickle file should be saved for the best performing model.\n",
    "Include best coding practices in the code:\n",
    "• Modularization\n",
    "• Maintainability\n",
    "• Well commented code etc."
   ]
  },
  {
   "cell_type": "code",
   "execution_count": 35,
   "id": "c61c7f80",
   "metadata": {},
   "outputs": [],
   "source": [
    "#import the libraries \n",
    "from sklearn.model_selection import train_test_split\n",
    "from sklearn.model_selection import GridSearchCV\n",
    "from sklearn.metrics import r2_score\n",
    "from sklearn.metrics import accuracy_score\n",
    "from sklearn.metrics import confusion_matrix\n",
    "from sklearn.model_selection import cross_val_score, KFold\n",
    "import tkinter as tk\n",
    "from tkinter.filedialog import askopenfilename\n",
    "from sklearn.neighbors import KNeighborsClassifier\n",
    "from scipy.stats import zscore\n",
    "from sklearn.linear_model import LogisticRegression\n",
    "import pickle\n",
    "\n",
    " "
   ]
  },
  {
   "cell_type": "markdown",
   "id": "d2450a49",
   "metadata": {},
   "source": [
    "***Modualar design steps***\n",
    "1. Load the csv file (hard coded instead of user choosing a file)\n",
    "2. check the columns of type object a print unique values\n",
    "3. Segregate categorical columns having less than 10 unique values for one hot coding\n",
    "4. Confirm the target column for predicition\n",
    "5. Validate the feature/column types and take appropiate action (convert to float or one hote encoding\n",
    "6. check the continous variable values in the column\n",
    "7. if the continous variable column has null or non acceptable values replace with mean value.\n",
    "8. perform one hot encoding"
   ]
  },
  {
   "cell_type": "markdown",
   "id": "ef00c6ba",
   "metadata": {},
   "source": [
    "*** Define the Functions ***\n",
    "\n"
   ]
  },
  {
   "cell_type": "code",
   "execution_count": 37,
   "id": "18ef725e",
   "metadata": {},
   "outputs": [],
   "source": [
    "\n",
    "# defining open_file_chooser function\n",
    "# Function used to open a window dialog for choosing the file  \n",
    "def open_file_chooser():\n",
    "    filename = askopenfilename()\n",
    "    print(\"You have selected : %s\" % filename) \n",
    "    \n",
    "# A Fucntion to create a popup window with a button to invoke the file chooser window dialog (not used)\n",
    "def renderFileOpenWindow():    \n",
    "    # creating an instance of Tk\n",
    "    root = tk.Tk()\n",
    "    root.title(\"Example\")\n",
    "    # Button : Open\n",
    "    open = tk.Button(root, text = \"Open\", command = open_file_chooser)\n",
    "    open.pack()\n",
    "    # Open the Button popup\n",
    "    root.mainloop()   \n",
    "\n",
    "\n",
    "\n",
    "\n",
    "# print or list the features available in Dataframe\n",
    "def printFeaturesList( df ):\n",
    "    i = 0\n",
    "    futrList = []\n",
    "    print('Option   Feature_name')\n",
    "    for colmn in df:\n",
    "        print(i+1,  '     : ' ,  colmn)        \n",
    "        futrList.append(colmn)\n",
    "        i= i + 1\n",
    "    return  futrList \n",
    "\n",
    "\n",
    "        \n",
    "# A function to return the list of features that needs oneHot encoding        \n",
    "def identifyColumnsforOneHotEncoding( df, predictedFeature ): \n",
    "    returnList = []\n",
    "    for colmn in df:\n",
    "        if df[colmn].dtypes == 'object' and colmn != predictedFeature :\n",
    "            colmnDet = df[colmn].value_counts()\n",
    "            if(colmDet.size < 10):\n",
    "                 print('Adding Column for one hot encoding ', colmn)\n",
    "                 returnList.append(colmn)\n",
    "    return  returnList               \n",
    "\n",
    "\n",
    "# A Function to drop rows of Categorical features that has no value and difficult to assign values\n",
    "def cleanupNullAndSplCharOnSupportingCategoryFeature(df, predictedFeature) :\n",
    "    Splchar = '[!@#$%&*_+=|\\:\";<>,./()[\\]{}\\']'  \n",
    "    aboveTenUniqValcol = []\n",
    "    lessTenUniqValcol = []\n",
    "    for (columnName, columnData) in df.iteritems():\n",
    "        preProsCol = False\n",
    "        \n",
    "        if df[columnName].dtypes == 'object' and columnName != predictedFeature :\n",
    "                colmnDet = df[columnName].value_counts()\n",
    "                \n",
    "                if( colmnDet.size > 10):\n",
    "                    aboveTenUniqValcol.append( columnName )\n",
    "                else :\n",
    "                    lessTenUniqValcol.append( columnName )\n",
    "                    preProsCol = True\n",
    "                    print(' cleaning up Feature  : ', columnName)\n",
    "                    print(' The unique values present is less than 10')\n",
    "                    \n",
    "                    for (idx, columnval) in columnData.iteritems() :\n",
    "                        delrow = False\n",
    "                        trimmedVal = columnval.strip()\n",
    "                        \n",
    "                        if( trimmedVal == \"\"):\n",
    "                            delrow = True\n",
    "                            print('empty val row index ', idx)\n",
    "                        \n",
    "                        elif len(trimmedVal) == 1 :\n",
    "                            if any( trimmedVal in Splchar ):\n",
    "                                delrow = True\n",
    "                                print('Spl Char row index ', idx)\n",
    "                                \n",
    "                        if(delrow):\n",
    "                            print('Dropping row : ', idx)\n",
    "                            df.drop(idx)\n",
    "    # return the features that has lesser and larger unique data groups\n",
    "    return aboveTenUniqValcol, lessTenUniqValcol\n",
    "\n",
    "\n",
    "# A function to enable user to drop the non value adding features that has too many categorical values to perform hot encoding\n",
    "def dropHugeUniqueValuecolumns(df, hugeUniqValColLst):\n",
    "    quitLoop = False\n",
    "    while( quitLoop == False):\n",
    "        print('Choose the column to drop that does not aid in prediction that has more than 10 unique values and drop, Q to quit')\n",
    "        for idx in range ( len( hugeUniqValColLst) ) :\n",
    "            print( idx+1 , ' : ' , hugeUniqValColLst[idx] )\n",
    "        selFutrStr = input()\n",
    "        try :\n",
    "            selFutr = int( selFutrStr )\n",
    "            if(selFutr > 0 and selFutr <= len(hugeUniqValColLst)):\n",
    "                print('You have selected option # : ', selFutr)\n",
    "                print( 'Dropping Feature name : ', hugeUniqValColLst[ selFutr-1 ] )             \n",
    "                df.drop(hugeUniqValColLst[ selFutr-1 ], inplace=True , axis=1)\n",
    "                hugeUniqValColLst.pop( selFutr-1 )           \n",
    "            else:\n",
    "                print('Please enter a valid option listed between 1 and ', len(lessthanTenUniqValFtr))    \n",
    "        except ValueError :\n",
    "            if(selFutrStr == 'Q'):\n",
    "                quitLoop = True\n",
    "            else:    \n",
    "                print('Please enter a valid numerical value') \n",
    "\n",
    "\n",
    "\n",
    "#A fucntion to print the unique values of features\n",
    "def printUniquevaluesofCategoricalFeatures( df ):\n",
    "    for colmn in df:\n",
    "        if df[colmn].dtypes == 'object' :\n",
    "            print('Unique Values for ' + colmn)\n",
    "            #print(df[colmn].value_counts())\n",
    "        \n",
    "\n",
    "# A Function to preprocess the categorical column value features and  convert their values to numerical ones through hot encoding\n",
    "def preprocesFeaturesForTrainingTheModel(df, predictedFeature):\n",
    "    # Retrieve the list of features that can be hot encoded or thats needs cleanup\n",
    "    aboveTenUniqValFtr, lessthanTenUniqValFtr = cleanupNullAndSplCharOnSupportingCategoryFeature(df, predictedFeature)\n",
    "    # Function for the user to drop columns that does not influence the prediction and difficult to encode or convert to float\n",
    "    dropHugeUniqueValuecolumns(df, aboveTenUniqValFtr)\n",
    "    ftrsForEncoding = []\n",
    "    print('test msg, delete later ' , aboveTenUniqValFtr)\n",
    "    combFtrLst = aboveTenUniqValFtr + lessthanTenUniqValFtr\n",
    "    #Iterate features to encode or convert to float\n",
    "    for idx in combFtrLst:\n",
    "        convrtdFltFlg = convertFeatureToFloatDatatype(df, idx , df[idx] )\n",
    "        if(convrtdFltFlg == False):\n",
    "            print(idx, 'Feature identified for one hot encoding')\n",
    "            ftrsForEncoding.append(idx)\n",
    "    # Call the fucntion to encode the list the features identified.\n",
    "    print('features for encoding : ', ftrsForEncoding)\n",
    "    df = performOneHotEncodingOnFeatures(df, ftrsForEncoding)\n",
    "    #df.to_csv(\"Ensemble_Technique_Project\\PreprocessedDF.csv\")\n",
    "    return df\n",
    "    \n",
    "    \n",
    "\n",
    "# A Function that converts the given feature that replaces any missing values for features that has more numerical \n",
    "# values and replace the unexpetced values with a mean value of numerical row calues  \n",
    "def convertFeatureToFloatDatatype(df, colmNm, colmData):\n",
    "    print( 'Feature : ' , colmNm )\n",
    "    print( 'convertToFloatDatatype :: Trying to convert feature ' + colmNm + ' to a float datatype ' )\n",
    "    conToFlt = False\n",
    "    # try to convert the feature to a float datatype\n",
    "    try:\n",
    "        df[colmNm] = df[colmNm].astype(float)\n",
    "        conToFlt = True\n",
    "    # capture the error condition when conversion to float fails\n",
    "    except ValueError :\n",
    "        print( 'convertToFloatDatatype:: Could not convert the feature' + colmNm + ' datatype to float' )\n",
    "        rowCount = df[colmNm].size\n",
    "        colmUniqVal = df[colmNm].value_counts()\n",
    "        numCount = 0\n",
    "        strCount = 0\n",
    "        splChCount = 0\n",
    "        # Iterate through the rows to identify the pre-dominant datatype in the feature\n",
    "        for idx in colmUniqVal.index:\n",
    "            try :\n",
    "                val = float(idx)\n",
    "                numCount = numCount + colmUniqVal[idx]\n",
    "            except ValueError :                \n",
    "                if idx.isalpha() :\n",
    "                    strCount = strCount + colmUniqVal[idx]\n",
    "                else :\n",
    "                    splChCount = splChCount + colmUniqVal[idx]\n",
    "         \n",
    "        if( strCount > rowCount/2 or splChCount > rowCount/2) :\n",
    "            print( 'convertToFloatDatatype :: ', colmNm,  ' feature has above average characters or spl characters values ,  need to use one hot encoding  ' )\n",
    "        else :\n",
    "            print( 'convertToFloatDatatype :: Converting the row values to float' )\n",
    "            for idx in colmData.index :\n",
    "                try :\n",
    "                    val = float(colmData[idx])\n",
    "                except ValueError :     \n",
    "                    df[colmNm].iloc[idx] = ''\n",
    "            print( 'convertToFloatDatatype :: All the non-numeric values are nullified' )\n",
    "            print('convertToFloatDatatype :: replacing the nulls with the mean value of the deature')\n",
    "            df_temp = df[colmNm].copy(deep=False)\n",
    "            meanvalue =  (pd.to_numeric(df_temp, errors='coerce')).mean()\n",
    "            df.loc[df[colmNm]=='',  colmNm] = meanvalue\n",
    "            df[\"TotalCharges\"]       = df[\"TotalCharges\"].astype(float)\n",
    "            conToFlt = True\n",
    "    #return whteher the conversion was success or failure        \n",
    "    print('Converted to Float : ' , conToFlt)\n",
    "    return conToFlt            \n",
    "            \n",
    "    \n",
    "\n",
    "# Fucntion to perform one hot encoding for identified features    \n",
    "def performOneHotEncodingOnFeatures( df, colmnLst):\n",
    "    #use one hot coding for two features\n",
    "    return pd.get_dummies(df, columns=colmnLst)       \n",
    "    \n",
    "# Fucntion to list the features, for the user to select a feature as target feature to be predicited\n",
    "def selectTargetFeatureForPrediction(ftrLst):\n",
    "    print('\\n Enter a index number of the feature to target for prediciton and hit Enter key')\n",
    "\n",
    "    # Identify the feature or column to be predicted\n",
    "    validInput = False\n",
    "    selFutr = 1\n",
    "    selfutrNm = ''\n",
    "\n",
    "    #loop the inout request until a valid option is selected\n",
    "    while (validInput == False):\n",
    "        selFutrStr = input()\n",
    "        try :\n",
    "            selFutr = int( selFutrStr )\n",
    "            if(selFutr > 0 and selFutr <= len(ftrLst)):\n",
    "                print('You have selected option # : ', selFutr)\n",
    "                selfutrNm = ftrLst[ selFutr-1 ]\n",
    "                print( 'Feature name : ',  selfutrNm)\n",
    "                validInput = True\n",
    "            else:\n",
    "                print('Please enter a valid option listed between 1 and ', len(ftrLst)) \n",
    "        except ValueError :\n",
    "            print('Please enter a valid numerical value')\n",
    "    #return the selected feature name\n",
    "    return selfutrNm\n",
    "            \n",
    "\n",
    "# A function that groups the features to train and predict as X and Y.  Also does scaling to convert the \n",
    "# feature values as unit agnostic    \n",
    "def splitDataScaleandTrasnform( df, predictedFeature, testPercent, randomstate ):\n",
    "    X = df.drop([predictedFeature] , axis=1)\n",
    "    Y = df[predictedFeature]\n",
    "    X_Z_Scaled = X.apply(zscore)\n",
    "    X_train, X_test, Y_train, Y_test = train_test_split( X_Z_Scaled, Y, test_size = testPercent, random_state = randomstate )\n",
    "    return  X_train, X_test, Y_train, Y_test\n",
    "\n",
    "# A function to evaluate KNN, Logistic regression models by training the model and then identify the best performing model\n",
    "def evaluateDifferentModels(X_train, X_test, Y_train, Y_test):\n",
    "    #Calling K-Nearest Neighbour alogorithm\n",
    "    # using neignbour count 1,3,5,7 & 9\n",
    "    KNN_AccuracyScore    = {}\n",
    "    Logstc_AccuracyScore = {}\n",
    "    XSGBoostAccScore     = {}\n",
    "    # Define the neighbour count list\n",
    "    neignbourCount = [1,3,5,7,9]\n",
    "    print('*** Executing KNN alogoritm ****')\n",
    "    # Iterate the neighbour count and execute the KNN\n",
    "    for idx in neignbourCount :\n",
    "        KNN_AccuracyScore[idx] = (executeKNNClassifiers(X_train, X_test, Y_train, Y_test, idx))    \n",
    "    maxIterCount = [1000,1500, 2000,2500, 3000]\n",
    "    # Iterate the max Iteration and execute the Logistic Regression\n",
    "    for idx in maxIterCount :\n",
    "        Logstc_AccuracyScore[idx] = (executeLogisticRegression(X_train, X_test, Y_train, Y_test, idx))    \n",
    "    # Identify the best model and retrun the same    \n",
    "    if max( KNN_AccuracyScore) > max( Logstc_AccuracyScore ):\n",
    "        return KNN_AccuracyScore\n",
    "    else :\n",
    "        return Logstc_AccuracyScore\n",
    "    \n",
    "    \n",
    "# Function to train and excute the KNN alogorithm    \n",
    "def executeKNNClassifiers(X_train, X_test, Y_train, Y_test, neighboutCount ):  \n",
    "    print(\"executeKNNClassifiers :: neighbour count : \", neighboutCount)\n",
    "    KNN_Classifiers = KNeighborsClassifier(n_neighbors=3, weights = 'distance')\n",
    "    KNN_Classifiers.fit( X_train, Y_train )\n",
    "    score = KNN_Classifiers.score( X_test, Y_test )\n",
    "    print(\"executeKNNClassifiers :: score: \", score)\n",
    "    return np.round(score,2)\n",
    "\n",
    "\n",
    "# Function to train and excute the Logistic alogorithm  \n",
    "def executeLogisticRegression( X_train, X_test, Y_train, Y_test, maxIterationCount ):\n",
    "    print(\"executeLogisticRegression :: Max Iterations : \", maxIterationCount)\n",
    "    log_reg = LogisticRegression(max_iter=maxIterationCount)\n",
    "    log_reg.fit(X_train, Y_train.values.ravel())\n",
    "    pred_test = log_reg.predict(X_test)\n",
    "    pred_train = log_reg.predict(X_train)\n",
    "    test_accuracy=accuracy_score(Y_test, pred_test)\n",
    "    print(\"executeKNNClassifiers :: score: \", test_accuracy)\n",
    "    return np.round(test_accuracy,2)\n",
    "\n"
   ]
  },
  {
   "cell_type": "code",
   "execution_count": 38,
   "id": "7ec072d0",
   "metadata": {},
   "outputs": [],
   "source": [
    "#Main function.  For Simplicity the pre defined path file is loaded \n",
    "prjDataFrm = pd.read_csv( 'Ensemble_Technique_Project\\TelcomCustomer-Churn_2.csv' )"
   ]
  },
  {
   "cell_type": "code",
   "execution_count": 39,
   "id": "73ac117c",
   "metadata": {},
   "outputs": [
    {
     "name": "stdout",
     "output_type": "stream",
     "text": [
      "Option   Feature_name\n",
      "1      :  customerID\n",
      "2      :  OnlineBackup\n",
      "3      :  DeviceProtection\n",
      "4      :  TechSupport\n",
      "5      :  StreamingTV\n",
      "6      :  StreamingMovies\n",
      "7      :  Contract\n",
      "8      :  PaperlessBilling\n",
      "9      :  PaymentMethod\n",
      "10      :  MonthlyCharges\n",
      "11      :  TotalCharges\n",
      "12      :  Churn\n",
      "\n",
      " Enter a index number of the feature to target for prediciton and hit Enter key\n",
      "12\n",
      "You have selected option # :  12\n",
      "Feature name :  Churn\n"
     ]
    }
   ],
   "source": [
    "#user selection of feature that needs to be predicted\n",
    "futrList = printFeaturesList( prjDataFrm )\n",
    "selFtrColmn = selectTargetFeatureForPrediction( futrList )"
   ]
  },
  {
   "cell_type": "code",
   "execution_count": 40,
   "id": "1f7f0cf7",
   "metadata": {},
   "outputs": [
    {
     "name": "stdout",
     "output_type": "stream",
     "text": [
      " cleaning up Feature  :  OnlineBackup\n",
      " The unique values present is less than 10\n",
      " cleaning up Feature  :  DeviceProtection\n",
      " The unique values present is less than 10\n",
      " cleaning up Feature  :  TechSupport\n",
      " The unique values present is less than 10\n",
      " cleaning up Feature  :  StreamingTV\n",
      " The unique values present is less than 10\n",
      " cleaning up Feature  :  StreamingMovies\n",
      " The unique values present is less than 10\n",
      " cleaning up Feature  :  Contract\n",
      " The unique values present is less than 10\n",
      " cleaning up Feature  :  PaperlessBilling\n",
      " The unique values present is less than 10\n",
      " cleaning up Feature  :  PaymentMethod\n",
      " The unique values present is less than 10\n",
      "Choose the column to drop that does not aid in prediction that has more than 10 unique values and drop, Q to quit\n",
      "1  :  customerID\n",
      "2  :  TotalCharges\n",
      "1\n",
      "You have selected option # :  1\n",
      "Dropping Feature name :  customerID\n",
      "Choose the column to drop that does not aid in prediction that has more than 10 unique values and drop, Q to quit\n",
      "1  :  TotalCharges\n",
      "Q\n",
      "test msg, delete later  ['TotalCharges']\n",
      "Feature :  TotalCharges\n",
      "convertToFloatDatatype :: Trying to convert feature TotalCharges to a float datatype \n",
      "convertToFloatDatatype:: Could not convert the featureTotalCharges datatype to float\n",
      "convertToFloatDatatype :: Converting the row values to float\n",
      "convertToFloatDatatype :: All the non-numeric values are nullified\n",
      "convertToFloatDatatype :: replacing the nulls with the mean value of the deature\n",
      "Converted to Float :  True\n",
      "Feature :  OnlineBackup\n",
      "convertToFloatDatatype :: Trying to convert feature OnlineBackup to a float datatype \n",
      "convertToFloatDatatype:: Could not convert the featureOnlineBackup datatype to float\n",
      "convertToFloatDatatype ::  OnlineBackup  feature has above average characters or spl characters values ,  need to use one hot encoding  \n",
      "Converted to Float :  False\n",
      "OnlineBackup Feature identified for one hot encoding\n",
      "Feature :  DeviceProtection\n",
      "convertToFloatDatatype :: Trying to convert feature DeviceProtection to a float datatype \n",
      "convertToFloatDatatype:: Could not convert the featureDeviceProtection datatype to float\n",
      "convertToFloatDatatype ::  DeviceProtection  feature has above average characters or spl characters values ,  need to use one hot encoding  \n",
      "Converted to Float :  False\n",
      "DeviceProtection Feature identified for one hot encoding\n",
      "Feature :  TechSupport\n",
      "convertToFloatDatatype :: Trying to convert feature TechSupport to a float datatype \n",
      "convertToFloatDatatype:: Could not convert the featureTechSupport datatype to float\n",
      "convertToFloatDatatype ::  TechSupport  feature has above average characters or spl characters values ,  need to use one hot encoding  \n",
      "Converted to Float :  False\n",
      "TechSupport Feature identified for one hot encoding\n",
      "Feature :  StreamingTV\n",
      "convertToFloatDatatype :: Trying to convert feature StreamingTV to a float datatype \n",
      "convertToFloatDatatype:: Could not convert the featureStreamingTV datatype to float\n",
      "convertToFloatDatatype ::  StreamingTV  feature has above average characters or spl characters values ,  need to use one hot encoding  \n",
      "Converted to Float :  False\n",
      "StreamingTV Feature identified for one hot encoding\n",
      "Feature :  StreamingMovies\n",
      "convertToFloatDatatype :: Trying to convert feature StreamingMovies to a float datatype \n",
      "convertToFloatDatatype:: Could not convert the featureStreamingMovies datatype to float\n",
      "convertToFloatDatatype ::  StreamingMovies  feature has above average characters or spl characters values ,  need to use one hot encoding  \n",
      "Converted to Float :  False\n",
      "StreamingMovies Feature identified for one hot encoding\n",
      "Feature :  Contract\n",
      "convertToFloatDatatype :: Trying to convert feature Contract to a float datatype \n",
      "convertToFloatDatatype:: Could not convert the featureContract datatype to float\n",
      "convertToFloatDatatype ::  Contract  feature has above average characters or spl characters values ,  need to use one hot encoding  \n",
      "Converted to Float :  False\n",
      "Contract Feature identified for one hot encoding\n",
      "Feature :  PaperlessBilling\n",
      "convertToFloatDatatype :: Trying to convert feature PaperlessBilling to a float datatype \n",
      "convertToFloatDatatype:: Could not convert the featurePaperlessBilling datatype to float\n",
      "convertToFloatDatatype ::  PaperlessBilling  feature has above average characters or spl characters values ,  need to use one hot encoding  \n",
      "Converted to Float :  False\n",
      "PaperlessBilling Feature identified for one hot encoding\n",
      "Feature :  PaymentMethod\n",
      "convertToFloatDatatype :: Trying to convert feature PaymentMethod to a float datatype \n",
      "convertToFloatDatatype:: Could not convert the featurePaymentMethod datatype to float\n",
      "convertToFloatDatatype ::  PaymentMethod  feature has above average characters or spl characters values ,  need to use one hot encoding  \n",
      "Converted to Float :  False\n",
      "PaymentMethod Feature identified for one hot encoding\n",
      "features for encoding :  ['OnlineBackup', 'DeviceProtection', 'TechSupport', 'StreamingTV', 'StreamingMovies', 'Contract', 'PaperlessBilling', 'PaymentMethod']\n"
     ]
    },
    {
     "name": "stderr",
     "output_type": "stream",
     "text": [
      "C:\\ProgramData\\Anaconda3\\lib\\site-packages\\pandas\\core\\indexing.py:1732: SettingWithCopyWarning: \n",
      "A value is trying to be set on a copy of a slice from a DataFrame\n",
      "\n",
      "See the caveats in the documentation: https://pandas.pydata.org/pandas-docs/stable/user_guide/indexing.html#returning-a-view-versus-a-copy\n",
      "  self._setitem_single_block(indexer, value, name)\n"
     ]
    }
   ],
   "source": [
    "# perform preprocessing of features like converting to float data type or do hot encoding\n",
    "prjDataFrm = preprocesFeaturesForTrainingTheModel( prjDataFrm, selFtrColmn )"
   ]
  },
  {
   "cell_type": "code",
   "execution_count": 41,
   "id": "45bd3ab2",
   "metadata": {},
   "outputs": [],
   "source": [
    "# Split the data as test and train for model execution\n",
    "testDataRatio = 0.3\n",
    "randomseed    = 2\n",
    "X_train, X_test, Y_train, Y_test = splitDataScaleandTrasnform( prjDataFrm, selFtrColmn, testDataRatio, randomseed )\n",
    "\n"
   ]
  },
  {
   "cell_type": "code",
   "execution_count": 42,
   "id": "c4c8fd0f",
   "metadata": {
    "scrolled": true
   },
   "outputs": [
    {
     "name": "stdout",
     "output_type": "stream",
     "text": [
      "*** Executing KNN alogoritm ****\n",
      "executeKNNClassifiers :: neighbour count :  1\n",
      "executeKNNClassifiers :: score:  0.7330809275911027\n",
      "executeKNNClassifiers :: neighbour count :  3\n",
      "executeKNNClassifiers :: score:  0.7330809275911027\n",
      "executeKNNClassifiers :: neighbour count :  5\n",
      "executeKNNClassifiers :: score:  0.7330809275911027\n",
      "executeKNNClassifiers :: neighbour count :  7\n",
      "executeKNNClassifiers :: score:  0.7330809275911027\n",
      "executeKNNClassifiers :: neighbour count :  9\n",
      "executeKNNClassifiers :: score:  0.7330809275911027\n",
      "executeLogisticRegression :: Max Iterations :  1000\n",
      "executeKNNClassifiers :: score:  0.7770941788925698\n",
      "executeLogisticRegression :: Max Iterations :  1500\n",
      "executeKNNClassifiers :: score:  0.7770941788925698\n",
      "executeLogisticRegression :: Max Iterations :  2000\n",
      "executeKNNClassifiers :: score:  0.7770941788925698\n",
      "executeLogisticRegression :: Max Iterations :  2500\n",
      "executeKNNClassifiers :: score:  0.7770941788925698\n",
      "executeLogisticRegression :: Max Iterations :  3000\n",
      "executeKNNClassifiers :: score:  0.7770941788925698\n"
     ]
    }
   ],
   "source": [
    "# Execute the models and evaluate the best one\n",
    "bestPerfMdl = evaluateDifferentModels(X_train, X_test, Y_train, Y_test)"
   ]
  },
  {
   "cell_type": "code",
   "execution_count": 44,
   "id": "76e20eeb",
   "metadata": {},
   "outputs": [],
   "source": [
    "# Save the model details in a pickle file\n",
    "fileNm = 'EnsembleProjectModelOutput'\n",
    "OutputFile = open( fileNm, 'wb')\n",
    "pickle.dump( bestPerfMdl, OutputFile )\n",
    "OutputFile.close()"
   ]
  },
  {
   "cell_type": "code",
   "execution_count": null,
   "id": "ea7cf093",
   "metadata": {},
   "outputs": [],
   "source": [
    "\n",
    "\n",
    " \n",
    "\n",
    "\n",
    "\n",
    "        "
   ]
  }
 ],
 "metadata": {
  "kernelspec": {
   "display_name": "Python 3 (ipykernel)",
   "language": "python",
   "name": "python3"
  },
  "language_info": {
   "codemirror_mode": {
    "name": "ipython",
    "version": 3
   },
   "file_extension": ".py",
   "mimetype": "text/x-python",
   "name": "python",
   "nbconvert_exporter": "python",
   "pygments_lexer": "ipython3",
   "version": "3.9.7"
  }
 },
 "nbformat": 4,
 "nbformat_minor": 5
}
